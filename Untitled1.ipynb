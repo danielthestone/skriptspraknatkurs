{
 "cells": [
  {
   "cell_type": "code",
   "execution_count": 6,
   "id": "7ea88889-a6d3-4bc6-8172-dcec40aaba6f",
   "metadata": {},
   "outputs": [],
   "source": [
    "import requests\n",
    "from bs4 import BeautifulSoup\n",
    "import csv\n",
    "\n",
    "URL = 'http://www.values.com/inspirational-quotes'\n",
    "\n",
    "r = requests.get(URL)\n",
    " \n",
    "soup = BeautifulSoup(r.content, 'html5lib')\n",
    " \n",
    "quotes=[]\n",
    " \n",
    "table = soup.find('div', attrs = {'id':'all_quotes'}) \n",
    " \n",
    "for row in table.findAll('div',\n",
    "                         attrs = {'class':'col-6 col-lg-3 text-center margin-30px-bottom sm-margin-30px-top'}):\n",
    "    quote = {}\n",
    "    quote['theme'] = row.h5.text\n",
    "    quote['url'] = row.a['href']\n",
    "    quote['img'] = row.img['src']\n",
    "    quote['lines'] = row.img['alt'].split(' #')[0]\n",
    "    quote['author'] = row.img['alt'].split(' #')[1]\n",
    "    quotes.append(quote)\n",
    " \n",
    "filename = 'inspirational_quotes.csv'\n",
    "with open(filename, 'w', newline='') as f:\n",
    "    w = csv.DictWriter(f,['theme','url','img','lines','author'])\n",
    "    w.writeheader()\n",
    "    for quote in quotes:\n",
    "        w.writerow(quote)"
   ]
  },
  {
   "cell_type": "code",
   "execution_count": null,
   "id": "62d489de-0528-42ac-8909-275c0d822f3c",
   "metadata": {},
   "outputs": [],
   "source": []
  }
 ],
 "metadata": {
  "kernelspec": {
   "display_name": "Python 3 (ipykernel)",
   "language": "python",
   "name": "python3"
  },
  "language_info": {
   "codemirror_mode": {
    "name": "ipython",
    "version": 3
   },
   "file_extension": ".py",
   "mimetype": "text/x-python",
   "name": "python",
   "nbconvert_exporter": "python",
   "pygments_lexer": "ipython3",
   "version": "3.12.4"
  }
 },
 "nbformat": 4,
 "nbformat_minor": 5
}
