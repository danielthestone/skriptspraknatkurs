{
 "cells": [
  {
   "cell_type": "code",
   "execution_count": 35,
   "id": "a94b89ad-5c70-4acc-ace7-a1cc2a0d7ebf",
   "metadata": {},
   "outputs": [
    {
     "name": "stdout",
     "output_type": "stream",
     "text": [
      "TITLE: Suositeltu        \n",
      "\n",
      "\n",
      "        Manager, Treasury Cash Management DATE 04.04.2025, COMPANY UPM LOCATION Helsinki\n",
      "TITLE: IT-asiantuntija DATE 04.04.2025, COMPANY Tervakoski Oy LOCATION 12400 Tervakoski\n",
      "TITLE: IT-asiantuntija DATE 04.04.2025, COMPANY Teollisuuden Voima Oyj LOCATION 27100 Eurajoki\n",
      "TITLE: IT-asentaja tekniseen laitehuoltoon ja ylläpitoon DATE 04.04.2025, COMPANY Barona IT LOCATION Helsinki, Vantaa, Espoo\n",
      "TITLE: IT-tukihenkilö Tietohallinnon lähipalvelutiimiin DATE 04.04.2025, COMPANY Tampereen yliopisto LOCATION Tampere\n",
      "TITLE: IT-asiantuntija, IBM-keskustietokone DATE 04.04.2025, COMPANY Kela LOCATION Jyväskylä, Helsinki\n",
      "TITLE: Senior M&A IT professional DATE 04.04.2025, COMPANY PricewaterhouseCoopers Oy LOCATION Helsinki\n",
      "TITLE: Vabakutseline IT ekspert DATE 04.04.2025, COMPANY Nice-business Consulting Oy LOCATION Tallinna, Viro\n",
      "TITLE: Lead IS/IT Internal Auditor DATE 04.04.2025, COMPANY Nokia LOCATION New Providence, NJ, Yhdysvallat, Espoo, Budapest, Unkari, Coppell, TX, Yhdysvallat, Naperville, Illinois, Yhdysvallat\n",
      "TITLE: Head of IT, Riihimäki DATE 04.04.2025, COMPANY Würth Oy LOCATION Riihimäki\n",
      "TITLE: Senior IT Architect, Hybrid Cloud Computing Databases DATE 04.04.2025, COMPANY UPM LOCATION Tampere, Helsinki\n",
      "TITLE: Kesätyöntekijä Mäntsälään IT-asennustehtäviin DATE 04.04.2025, COMPANY Barona Logistiikka LOCATION Mäntsälä\n",
      "TITLE: IT-asiantuntija (lisenssienhallinta) DATE 04.04.2025, COMPANY Tampereen yliopisto LOCATION Tampere\n",
      "TITLE: IT-asiantuntija, Microsoft-pilviteknologiat DATE 03.04.2025, COMPANY Kela LOCATION Helsinki, Oulu, Jyväskylä\n",
      "TITLE: Markkinointi & Viestintä - avoin hakemus DATE 03.04.2025, COMPANY Barona IT Talent LOCATION Helsinki, Vantaa, Espoo\n",
      "TITLE: Lähitukihenkilö, Barona ICT Services, Rovaniemi DATE 03.04.2025, COMPANY Barona IT LOCATION Rovaniemi\n",
      "TITLE: IT Project Manager DATE 03.04.2025, COMPANY Eficode LOCATION Göteborg, Ruotsi\n",
      "TITLE: AI Data Scientist, IT-innovaatio- ja kasvuyksikkö DATE 02.04.2025, COMPANY Kela LOCATION Helsinki, Jyväskylä\n",
      "TITLE: IT-päällikkö DATE 02.04.2025, COMPANY Polygon Finland Oy LOCATION Helsinki\n",
      "TITLE: Embedded System Engineer DATE 02.04.2025, COMPANY Poolia IT LOCATION Helsinki\n"
     ]
    }
   ],
   "source": [
    "from bs4 import BeautifulSoup as bs\n",
    "import requests\n",
    "import csv\n",
    "url = 'https://www.jobly.fi/tyopaikat?search=it&job_geo_location=&Etsi+ty%C3%B6paikkoja=Etsi+ty%C3%B6paikkoja&lat=&lon=&country=&administrative_area_level_1='\n",
    "website = requests.get(url)\n",
    "soup = bs(website.content,'html.parser')\n",
    "\n",
    "all = soup.find_all(\"div\",{\"class\":\"mobile_job__content\"}) \n",
    "\n",
    "file = open('jobdetail.csv','w')\n",
    "writer = csv.writer(file)\n",
    "writer.writerow(['TITLE','DATE','COMPANY NAME','LOCATION'])\n",
    "for i in all:\n",
    "    title = i.find_all(\"h2\",{\"class\":\"node__title\"})[0].text.strip()\n",
    "    date = i.find_all(\"span\",{\"class\":\"date\"})[0].text.strip()\n",
    "    companyname = i.find_all(\"span\",{\"class\":\"recruiter-company-profile-job-organization\"})[0].text.strip()\n",
    "    location = i.find_all(\"div\",{\"class\":\"location\"})[0].text.strip()\n",
    "\n",
    "    print('TITLE:',title,'DATE',date,'COMPANY',companyname,'LOCATION',location)\n",
    "    writer.writerow([title,date,companyname,location])\n",
    "file.close()"
   ]
  },
  {
   "cell_type": "code",
   "execution_count": 13,
   "id": "305b7f31-33ef-4aeb-a3b4-e7349af0e824",
   "metadata": {},
   "outputs": [
    {
     "data": {
      "text/plain": [
       "'\\nHelsinki '"
      ]
     },
     "execution_count": 13,
     "metadata": {},
     "output_type": "execute_result"
    }
   ],
   "source": []
  },
  {
   "cell_type": "code",
   "execution_count": null,
   "id": "a593aee0-5a99-4814-bd6d-15f4331d6804",
   "metadata": {},
   "outputs": [],
   "source": []
  }
 ],
 "metadata": {
  "kernelspec": {
   "display_name": "Python 3 (ipykernel)",
   "language": "python",
   "name": "python3"
  },
  "language_info": {
   "codemirror_mode": {
    "name": "ipython",
    "version": 3
   },
   "file_extension": ".py",
   "mimetype": "text/x-python",
   "name": "python",
   "nbconvert_exporter": "python",
   "pygments_lexer": "ipython3",
   "version": "3.12.4"
  }
 },
 "nbformat": 4,
 "nbformat_minor": 5
}
