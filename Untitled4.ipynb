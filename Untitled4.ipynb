{
 "cells": [
  {
   "cell_type": "code",
   "execution_count": 72,
   "id": "e2360b44-f715-43d1-a544-b5a5cce39578",
   "metadata": {},
   "outputs": [
    {
     "name": "stdout",
     "output_type": "stream",
     "text": [
      "TITLE: Suositeltu        \n",
      "\n",
      "\n",
      "        Manager, Treasury Cash Management DATE 04.04.2025, COMPANY UPM LOCATION Helsinki LOGO https://www.jobly.fi/sites/default/files/styles/squared_logo_wide_1x/public/job-logo/barona_0.png?itok=zRZNQv5E 1x, https://www.jobly.fi/sites/default/files/styles/squared_logo_wide_2x/public/job-logo/barona_0.png?itok=oGOjzomv 2x\n",
      "TITLE: Vabakutseline IT ekspert DATE 06.04.2025, COMPANY Nice-business Consulting Oy LOCATION Tallinna, Viro LOGO https://www.jobly.fi/sites/default/files/styles/squared_logo_wide_1x/public/job-logo/barona_0.png?itok=zRZNQv5E 1x, https://www.jobly.fi/sites/default/files/styles/squared_logo_wide_2x/public/job-logo/barona_0.png?itok=oGOjzomv 2x\n",
      "TITLE: IT-asiantuntija DATE 06.04.2025, COMPANY Tervakoski Oy LOCATION 12400 Tervakoski LOGO https://www.jobly.fi/sites/default/files/styles/squared_logo_wide_1x/public/job-logo/barona_0.png?itok=zRZNQv5E 1x, https://www.jobly.fi/sites/default/files/styles/squared_logo_wide_2x/public/job-logo/barona_0.png?itok=oGOjzomv 2x\n",
      "TITLE: IT-asiantuntija DATE 06.04.2025, COMPANY Teollisuuden Voima Oyj LOCATION 27100 Eurajoki LOGO https://www.jobly.fi/sites/default/files/styles/squared_logo_wide_1x/public/job-logo/barona_0.png?itok=zRZNQv5E 1x, https://www.jobly.fi/sites/default/files/styles/squared_logo_wide_2x/public/job-logo/barona_0.png?itok=oGOjzomv 2x\n",
      "TITLE: Lead IS/IT Internal Auditor DATE 06.04.2025, COMPANY Nokia LOCATION New Providence, NJ, Yhdysvallat, Espoo, Budapest, Unkari, Coppell, TX, Yhdysvallat, Naperville, Illinois, Yhdysvallat LOGO https://www.jobly.fi/sites/default/files/styles/squared_logo_wide_1x/public/job-logo/barona_0.png?itok=zRZNQv5E 1x, https://www.jobly.fi/sites/default/files/styles/squared_logo_wide_2x/public/job-logo/barona_0.png?itok=oGOjzomv 2x\n",
      "TITLE: IT Service Delivery Manager DATE 05.04.2025, COMPANY UPM LOCATION Tampere, Jämsä, Kouvola LOGO https://www.jobly.fi/sites/default/files/styles/squared_logo_wide_1x/public/job-logo/barona_0.png?itok=zRZNQv5E 1x, https://www.jobly.fi/sites/default/files/styles/squared_logo_wide_2x/public/job-logo/barona_0.png?itok=oGOjzomv 2x\n",
      "TITLE: Senior IT Architect, Hybrid Cloud Computing Databases DATE 05.04.2025, COMPANY UPM LOCATION Tampere, Helsinki LOGO https://www.jobly.fi/sites/default/files/styles/squared_logo_wide_1x/public/job-logo/barona_0.png?itok=zRZNQv5E 1x, https://www.jobly.fi/sites/default/files/styles/squared_logo_wide_2x/public/job-logo/barona_0.png?itok=oGOjzomv 2x\n",
      "TITLE: IT Cluster Manager DATE 05.04.2025, COMPANY Stora Enso Oyj LOCATION Oulu LOGO https://www.jobly.fi/sites/default/files/styles/squared_logo_wide_1x/public/job-logo/barona_0.png?itok=zRZNQv5E 1x, https://www.jobly.fi/sites/default/files/styles/squared_logo_wide_2x/public/job-logo/barona_0.png?itok=oGOjzomv 2x\n",
      "TITLE: IT & Communications Solution Architect DATE 05.04.2025, COMPANY Airbus Defence and Space Oy LOCATION Helsinki, Jyväskylä LOGO https://www.jobly.fi/sites/default/files/styles/squared_logo_wide_1x/public/job-logo/barona_0.png?itok=zRZNQv5E 1x, https://www.jobly.fi/sites/default/files/styles/squared_logo_wide_2x/public/job-logo/barona_0.png?itok=oGOjzomv 2x\n",
      "TITLE: Sr. Specialist, IT Solutions (SAP PP, PM). DATE 04.04.2025, COMPANY Borealis LOCATION Porvoo LOGO https://www.jobly.fi/sites/default/files/styles/squared_logo_wide_1x/public/job-logo/barona_0.png?itok=zRZNQv5E 1x, https://www.jobly.fi/sites/default/files/styles/squared_logo_wide_2x/public/job-logo/barona_0.png?itok=oGOjzomv 2x\n",
      "TITLE: IT-asentaja tekniseen laitehuoltoon ja ylläpitoon DATE 04.04.2025, COMPANY Barona IT LOCATION Helsinki, Vantaa, Espoo LOGO https://www.jobly.fi/sites/default/files/styles/squared_logo_wide_1x/public/job-logo/barona_0.png?itok=zRZNQv5E 1x, https://www.jobly.fi/sites/default/files/styles/squared_logo_wide_2x/public/job-logo/barona_0.png?itok=oGOjzomv 2x\n",
      "TITLE: IT-tukihenkilö Tietohallinnon lähipalvelutiimiin DATE 04.04.2025, COMPANY Tampereen yliopisto LOCATION Tampere LOGO https://www.jobly.fi/sites/default/files/styles/squared_logo_wide_1x/public/job-logo/barona_0.png?itok=zRZNQv5E 1x, https://www.jobly.fi/sites/default/files/styles/squared_logo_wide_2x/public/job-logo/barona_0.png?itok=oGOjzomv 2x\n",
      "TITLE: IT-asiantuntija, IBM-keskustietokone DATE 04.04.2025, COMPANY Kela LOCATION Jyväskylä, Helsinki LOGO https://www.jobly.fi/sites/default/files/styles/squared_logo_wide_1x/public/job-logo/barona_0.png?itok=zRZNQv5E 1x, https://www.jobly.fi/sites/default/files/styles/squared_logo_wide_2x/public/job-logo/barona_0.png?itok=oGOjzomv 2x\n",
      "TITLE: Senior M&A IT professional DATE 04.04.2025, COMPANY PricewaterhouseCoopers Oy LOCATION Helsinki LOGO https://www.jobly.fi/sites/default/files/styles/squared_logo_wide_1x/public/job-logo/barona_0.png?itok=zRZNQv5E 1x, https://www.jobly.fi/sites/default/files/styles/squared_logo_wide_2x/public/job-logo/barona_0.png?itok=oGOjzomv 2x\n",
      "TITLE: Head of IT, Riihimäki DATE 04.04.2025, COMPANY Würth Oy LOCATION Riihimäki LOGO https://www.jobly.fi/sites/default/files/styles/squared_logo_wide_1x/public/job-logo/barona_0.png?itok=zRZNQv5E 1x, https://www.jobly.fi/sites/default/files/styles/squared_logo_wide_2x/public/job-logo/barona_0.png?itok=oGOjzomv 2x\n",
      "TITLE: Senior IT Architect, Hybrid Cloud Computing Databases DATE 04.04.2025, COMPANY UPM LOCATION Tampere, Helsinki LOGO https://www.jobly.fi/sites/default/files/styles/squared_logo_wide_1x/public/job-logo/barona_0.png?itok=zRZNQv5E 1x, https://www.jobly.fi/sites/default/files/styles/squared_logo_wide_2x/public/job-logo/barona_0.png?itok=oGOjzomv 2x\n",
      "TITLE: Kesätyöntekijä Mäntsälään IT-asennustehtäviin DATE 04.04.2025, COMPANY Barona Logistiikka LOCATION Mäntsälä LOGO https://www.jobly.fi/sites/default/files/styles/squared_logo_wide_1x/public/job-logo/barona_0.png?itok=zRZNQv5E 1x, https://www.jobly.fi/sites/default/files/styles/squared_logo_wide_2x/public/job-logo/barona_0.png?itok=oGOjzomv 2x\n",
      "TITLE: IT-asiantuntija (lisenssienhallinta) DATE 04.04.2025, COMPANY Tampereen yliopisto LOCATION Tampere LOGO https://www.jobly.fi/sites/default/files/styles/squared_logo_wide_1x/public/job-logo/barona_0.png?itok=zRZNQv5E 1x, https://www.jobly.fi/sites/default/files/styles/squared_logo_wide_2x/public/job-logo/barona_0.png?itok=oGOjzomv 2x\n",
      "TITLE: IT-asiantuntija, Microsoft-pilviteknologiat DATE 03.04.2025, COMPANY Kela LOCATION Helsinki, Oulu, Jyväskylä LOGO https://www.jobly.fi/sites/default/files/styles/squared_logo_wide_1x/public/job-logo/barona_0.png?itok=zRZNQv5E 1x, https://www.jobly.fi/sites/default/files/styles/squared_logo_wide_2x/public/job-logo/barona_0.png?itok=oGOjzomv 2x\n",
      "TITLE: Markkinointi & Viestintä - avoin hakemus DATE 03.04.2025, COMPANY Barona IT Talent LOCATION Helsinki, Vantaa, Espoo LOGO https://www.jobly.fi/sites/default/files/styles/squared_logo_wide_1x/public/job-logo/barona_0.png?itok=zRZNQv5E 1x, https://www.jobly.fi/sites/default/files/styles/squared_logo_wide_2x/public/job-logo/barona_0.png?itok=oGOjzomv 2x\n"
     ]
    }
   ],
   "source": [
    "from bs4 import BeautifulSoup as bs\n",
    "import requests\n",
    "import csv\n",
    "url = 'https://www.jobly.fi/tyopaikat?search=it&job_geo_location=&Etsi+ty%C3%B6paikkoja=Etsi+ty%C3%B6paikkoja&lat=&lon=&country=&administrative_area_level_1='\n",
    "website = requests.get(url)\n",
    "soup = bs(website.content,'html.parser')\n",
    "\n",
    "logos = soup.find_all(\"div\",{\"class\":\"job__logo\"}) \n",
    "\n",
    "all = soup.find_all(\"div\",{\"class\":\"mobile_job__content\"}) \n",
    "\n",
    "file = open('jobly.csv','w')\n",
    "writer = csv.writer(file)\n",
    "writer.writerow(['TITEL','DATUM','FÖRETAG','PLATS','LOGO'])\n",
    "for i in all:\n",
    "    title = i.find_all(\"h2\",{\"class\":\"node__title\"})[0].text.strip()\n",
    "    date = i.find_all(\"span\",{\"class\":\"date\"})[0].text.strip()\n",
    "    companyname = i.find_all(\"span\",{\"class\":\"recruiter-company-profile-job-organization\"})[0].text.strip()\n",
    "    location = i.find_all(\"div\",{\"class\":\"location\"})[0].text.strip()\n",
    "    for i in logos:\n",
    "        logo = i.a.picture.source['data-srcset']   \n",
    "    print('TITLE:',title,'DATE',date,'COMPANY',companyname,'LOCATION',location,'LOGO',logo)\n",
    "    writer.writerow([title,date,companyname,location,logo])\n",
    "file.close()"
   ]
  }
 ],
 "metadata": {
  "kernelspec": {
   "display_name": "Python 3 (ipykernel)",
   "language": "python",
   "name": "python3"
  },
  "language_info": {
   "codemirror_mode": {
    "name": "ipython",
    "version": 3
   },
   "file_extension": ".py",
   "mimetype": "text/x-python",
   "name": "python",
   "nbconvert_exporter": "python",
   "pygments_lexer": "ipython3",
   "version": "3.12.4"
  }
 },
 "nbformat": 4,
 "nbformat_minor": 5
}
